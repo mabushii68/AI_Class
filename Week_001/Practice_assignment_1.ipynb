import pandas as pd
from sklearn.model_selection import train_test_split
from sklearn.preprocessing import LabelEncoder
from sklearn.tree import DecisionTreeClassifier
from sklearn.ensemble import RandomForestClassifier
from sklearn.svm import SVC
from sklearn.linear_model import LogisticRegression
from sklearn.metrics import accuracy_score

# CSV 파일 읽기
file_path = "C:/Users/ogoo0/Downloads/iris.csv" # iris.csv를 저장한 경로를 입력
df = pd.read_csv(file_path)

# 데이터 확인
print(df.head())
df.columns = ["SepalLength", "SepalWidth", "PetalLength", "PetalWidth", "Name"]
X = df.drop("Name", axis=1)
y = LabelEncoder().fit_transform(df["Name"])

# 데이터 분할
X_train, X_test, y_train, y_test = train_test_split(X, y, test_size=0.2, random_state=42)

# 모델 리스트
models = {
    "Decision Tree": DecisionTreeClassifier(),
    "Random Forest": RandomForestClassifier(),
    "SVM": SVC(),
    "Logistic Regression": LogisticRegression(max_iter=200)
}

# 모델 학습 및 평가
for name, model in models.items():
    model.fit(X_train, y_train)
    y_pred = model.predict(X_test)
    acc = accuracy_score(y_test, y_pred)
    print(f"{name} Accuracy: {acc:.4f}")
