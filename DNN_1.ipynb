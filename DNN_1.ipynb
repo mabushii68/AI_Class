{
  "nbformat": 4,
  "nbformat_minor": 0,
  "metadata": {
    "colab": {
      "provenance": []
    },
    "kernelspec": {
      "name": "python3",
      "display_name": "Python 3"
    },
    "language_info": {
      "name": "python"
    }
  },
  "cells": [
    {
      "cell_type": "code",
      "execution_count": 19,
      "metadata": {
        "id": "pfVDOjRu301T"
      },
      "outputs": [],
      "source": [
        "import torch\n",
        "import torch.nn as nn\n",
        "import torch.optim as optim\n",
        "from sklearn import datasets, metrics\n",
        "from sklearn.model_selection import train_test_split\n",
        "import matplotlib.pyplot as plt"
      ]
    },
    {
      "cell_type": "code",
      "source": [
        "digits = datasets.load_digits()\n",
        "n_samples = len(digits.images)\n",
        "data = digits.images.reshape((n_samples, -1))"
      ],
      "metadata": {
        "id": "o0owTPO6QQCC"
      },
      "execution_count": 20,
      "outputs": []
    },
    {
      "cell_type": "code",
      "source": [
        "X_train, X_test, y_train, y_test = train_test_split(data, digits.target, test_size=0.2, random_state=42)"
      ],
      "metadata": {
        "id": "2HAawHIBQQiD"
      },
      "execution_count": 21,
      "outputs": []
    },
    {
      "cell_type": "code",
      "source": [
        "X_train_tensor = torch.tensor(X_train, dtype=torch.float32)\n",
        "X_test_tensor = torch.tensor(X_test, dtype=torch.float32)\n",
        "y_train_tensor = torch.tensor(y_train, dtype=torch.long)\n",
        "y_test_tensor = torch.tensor(y_test, dtype=torch.long)"
      ],
      "metadata": {
        "id": "Qc_DAH0FQTaZ"
      },
      "execution_count": 22,
      "outputs": []
    },
    {
      "cell_type": "code",
      "source": [
        "class DNN(nn.Module):\n",
        "    def __init__(self):\n",
        "        super(DNN, self).__init__()\n",
        "        self.model = nn.Sequential(\n",
        "            nn.Linear(64, 128),\n",
        "            nn.ReLU(),\n",
        "            nn.Linear(128, 64),\n",
        "            nn.ReLU(),\n",
        "            nn.Linear(64, 10)\n",
        "        )\n",
        "\n",
        "    def forward(self, x):\n",
        "        return self.model(x)"
      ],
      "metadata": {
        "id": "miZbpDIhQVS5"
      },
      "execution_count": 23,
      "outputs": []
    },
    {
      "cell_type": "code",
      "source": [
        "model = DNN()\n",
        "criterion = nn.CrossEntropyLoss()\n",
        "optimizer = optim.Adam(model.parameters(), lr=0.001)"
      ],
      "metadata": {
        "id": "UlKttRIGQX82"
      },
      "execution_count": 24,
      "outputs": []
    },
    {
      "cell_type": "code",
      "source": [
        "for epoch in range(20):\n",
        "    model.train()\n",
        "    optimizer.zero_grad()\n",
        "    outputs = model(X_train_tensor)\n",
        "    loss = criterion(outputs, y_train_tensor)\n",
        "    loss.backward()\n",
        "    optimizer.step()\n",
        "    print(f\"Epoch {epoch+1}, Loss: {loss.item():.4f}\")"
      ],
      "metadata": {
        "colab": {
          "base_uri": "https://localhost:8080/"
        },
        "id": "q26aMYvDQZyo",
        "outputId": "e728a96a-00a0-4d6d-b288-fc4ad410ffcc"
      },
      "execution_count": 25,
      "outputs": [
        {
          "output_type": "stream",
          "name": "stdout",
          "text": [
            "Epoch 1, Loss: 2.5542\n",
            "Epoch 2, Loss: 2.3223\n",
            "Epoch 3, Loss: 2.1604\n",
            "Epoch 4, Loss: 2.0370\n",
            "Epoch 5, Loss: 1.9291\n",
            "Epoch 6, Loss: 1.8250\n",
            "Epoch 7, Loss: 1.7215\n",
            "Epoch 8, Loss: 1.6178\n",
            "Epoch 9, Loss: 1.5156\n",
            "Epoch 10, Loss: 1.4155\n",
            "Epoch 11, Loss: 1.3176\n",
            "Epoch 12, Loss: 1.2222\n",
            "Epoch 13, Loss: 1.1295\n",
            "Epoch 14, Loss: 1.0395\n",
            "Epoch 15, Loss: 0.9521\n",
            "Epoch 16, Loss: 0.8676\n",
            "Epoch 17, Loss: 0.7875\n",
            "Epoch 18, Loss: 0.7138\n",
            "Epoch 19, Loss: 0.6484\n",
            "Epoch 20, Loss: 0.5911\n"
          ]
        }
      ]
    },
    {
      "cell_type": "code",
      "source": [
        "model.eval()\n",
        "with torch.no_grad():\n",
        "    preds = model(X_test_tensor).argmax(dim=1)\n",
        "    acc = metrics.accuracy_score(y_test_tensor, preds)\n",
        "    print(f\"Test Accuracy: {acc:.4f}\")"
      ],
      "metadata": {
        "colab": {
          "base_uri": "https://localhost:8080/"
        },
        "id": "07W4WU1_Qb5m",
        "outputId": "b3e2de62-d7c5-40db-b1f7-a42b10b61252"
      },
      "execution_count": 26,
      "outputs": [
        {
          "output_type": "stream",
          "name": "stdout",
          "text": [
            "Test Accuracy: 0.8944\n"
          ]
        }
      ]
    },
    {
      "cell_type": "code",
      "source": [
        "idx = 10\n",
        "plt.imshow(X_test[idx].reshape(8, 8), cmap='gray')\n",
        "plt.title(f\"Prediction: {model(torch.tensor([X_test[idx]], dtype=torch.float32)).argmax(dim=1).item()}\")\n",
        "plt.axis('off')\n",
        "plt.show()"
      ],
      "metadata": {
        "colab": {
          "base_uri": "https://localhost:8080/",
          "height": 484
        },
        "id": "UdbQWibiQd34",
        "outputId": "1c39f62e-e703-4d0f-e56a-b37233e71e05"
      },
      "execution_count": 27,
      "outputs": [
        {
          "output_type": "stream",
          "name": "stderr",
          "text": [
            "<ipython-input-27-bf4dc4a0e6e9>:3: UserWarning: Creating a tensor from a list of numpy.ndarrays is extremely slow. Please consider converting the list to a single numpy.ndarray with numpy.array() before converting to a tensor. (Triggered internally at /pytorch/torch/csrc/utils/tensor_new.cpp:254.)\n",
            "  plt.title(f\"Prediction: {model(torch.tensor([X_test[idx]], dtype=torch.float32)).argmax(dim=1).item()}\")\n"
          ]
        },
        {
          "output_type": "display_data",
          "data": {
            "text/plain": [
              "<Figure size 640x480 with 1 Axes>"
            ],
            "image/png": "[encoded data removed]"
          },
          "metadata": {}
        }
      ]
    },
    {
      "cell_type": "code",
      "source": [],
      "metadata": {
        "id": "aVdgy5e4Qfw4"
      },
      "execution_count": null,
      "outputs": []
    }
  ]
}